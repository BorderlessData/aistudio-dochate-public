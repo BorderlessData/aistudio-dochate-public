{
 "cells": [
  {
   "cell_type": "markdown",
   "metadata": {},
   "source": [
    "# Multilabel Classification with DocHate tips\n",
    "\n",
    "\n",
    "When journalists ask their audience for help, success creates a whole new problem: what do you do with thousands of tips? \n",
    "\n",
    "Or what do you do with thousands of textual descriptions of … anything … potholes, disciplinary actions at prisons, aircraft safety incidents? There are too many to really read.\n",
    "\n",
    "And any time you feel \"there are too many to really read,\" that's when you should consider getting help from machine learning.\n",
    "\n",
    "The folks at ProPublica’s Documenting Hate project had this problem, with around 6,000 tips about hate crimes and bias incidents contributed by readers. To report a hate incident, someone only has to provide a written description of what happened. If they choose, they can also fill out checkboxes for why the victim was targeted -- e.g. because of their race, religion or immigrant status.\n",
    "\n",
    "Only some people include that “targeted because” checkbox, but that data is important for analysis and for getting tips to the right reporter. Could we train a computer to guess at what kind of target was involved based on the written description alone?\n",
    "\n",
    "**This notebook is technical and gets into the nitty-gritty of how to do text classification in this context. If you'd like a less-technical overview, read [our blogpost](https://qz.ai/a-crash-course-for-journalists-in-classifying-text-with-machine-learning/).** Check out the interactive example of the Naive Bayes model here: [demo](https://s3.amazonaws.com/qz-aistudio-public/dochate.html).\n",
    "\n",
    "We used Python and the scikit-learn library. (And tested some other algorithms using Keras.) But all of this is doable in R or other programming/stats languages. \n",
    "\n",
    "Here's what the final results look like, for predicting whether a tip is related to race and/or ethnicity using a variety of algorithms:\n",
    "\n",
    "````\n",
    "                     AU PR Curve\n",
    "  Keras CNN             92\n",
    "  Naive Bayes           90\n",
    "  Spacy                 88\n",
    "  Google AutomML        87\n",
    "  Keras NN              84\n",
    "  Keras LSTM             -\n",
    "````  \n",
    "\n",
    "It goes without saying, but, **be aware that there are slurs, swear words, and other offensive language in the code and output here!**"
   ]
  },
  {
   "cell_type": "markdown",
   "metadata": {},
   "source": [
    "## Step 1: Figuring out what question we wanted to answer.\n",
    "\n",
    "ProPublica receives tips about hate crimes via a [web form](http://documentinghate.com). The `targeted_because` checkboxes are optional. To fiddle with text classification approaches that work well for this kind of data (short-ish, political topics, etc.), we're going to try to \"fill in the blanks\" when the value of the `targeted_because` field is empty. \n"
   ]
  },
  {
   "cell_type": "code",
   "execution_count": 1,
   "metadata": {},
   "outputs": [],
   "source": [
    "# let's get started!\n",
    "from os import environ\n",
    "import numpy as np\n",
    "import tensorflow as tf\n",
    "import random\n",
    "\n",
    "# several of the algorithms we test here make use of randomness. and we split the data into train/test groups randomly.\n",
    "# in order to make sure that every time we run this notebook, we get the same results (rather than a\n",
    "# \"good\" split making one algorithm choice seem better), we set an arbitrary number (1234) as the seed for all the \n",
    "# random number generators.\n",
    "RANDOM_SEED = 1234\n",
    "np.random.seed(RANDOM_SEED)\n",
    "random.seed(RANDOM_SEED)\n",
    "tf.set_random_seed(RANDOM_SEED)\n",
    "environ['PYTHONHASHSEED'] = '0'\n",
    "\n",
    "from tensorflow import keras\n",
    "import pandas as pd\n",
    "import spacy\n",
    "import csv\n",
    "from sklearn.model_selection import train_test_split\n",
    "from sklearn.metrics import confusion_matrix, average_precision_score, precision_recall_curve, classification_report\n",
    "nlp = spacy.load('en_core_web_lg')\n",
    "from sklearn.preprocessing import  MultiLabelBinarizer\n",
    "from imblearn.over_sampling import SMOTE"
   ]
  },
  {
   "cell_type": "code",
   "execution_count": 4,
   "metadata": {},
   "outputs": [
    {
     "name": "stdout",
     "output_type": "stream",
     "text": [
      "Tips count: 5943\n",
      "Columns: ['admin_url', 'links', 'source', 'city', 'state', 'incident_date', 'where_occurred', 'type', 'targeted_because', 'gender', 'religion', 'race_ethnicity', 'reported_to_police', 'police_dept', 'description', 'knowledge', 'status']\n"
     ]
    }
   ],
   "source": [
    "tips_raw = pd.read_csv(\"data/dochate/CleanReport-2019-02-13.csv\") # the actual file is confidential. see \"step 2\"\n",
    "print(\"Tips count: {}\".format(tips_raw.shape[0]))\n",
    "print(\"Columns: {}\".format(tips_raw.columns.tolist()))"
   ]
  },
  {
   "cell_type": "markdown",
   "metadata": {},
   "source": [
    "## Step 2: Getting our data\n",
    "\n",
    "We have our \"train_test\" data and our \"real\" data all mixed in one spreadsheet (along with out-of-scope data, like trolls, inapplicable data like those in Spanish and those with a blank `description`.). Our actual goal is to predict the column values where it's absent, using just the description field. \n",
    "\n",
    "I can't show you the data itself, but the descriptions are just text.  The `targeted_because` column is comma-separated, so it might say `race,ethnicity` or `religion,sexual-orientation,race`.\n",
    "\n",
    "We remove the trolls, the not-applicable tips, those without a description and those that are in Spanish.\n",
    "\n",
    "We split the remaining data into two groups. First `real_data` the remaining tips where there were no targeting reasons selected. Those are the ones where we want the computer to find the right answer. Second, `train_test_data` is tips that do have a targeting reason provided by the tipster."
   ]
  },
  {
   "cell_type": "code",
   "execution_count": 6,
   "metadata": {},
   "outputs": [
    {
     "name": "stdout",
     "output_type": "stream",
     "text": [
      "Tips that need classification: (568, 19)\n",
      "tips that have a classification already: (3710, 19)\n"
     ]
    }
   ],
   "source": [
    "column_of_interest = \"targeted_because\"\n",
    "\n",
    "\n",
    "# remove all the tips that were marked by hand as trolls or not-applicable or with a blank description.\n",
    "tips = tips_raw[(tips_raw[\"status\"] != 'troll') & (tips_raw[\"status\"] != 'not-applicable') & tips_raw[\"description\"].notnull()]\n",
    "\n",
    "\n",
    "# remove duplicates (of which there are some!)\n",
    "tips_raw = tips_raw.drop_duplicates(subset=['description', column_of_interest], keep=False)\n",
    "\n",
    "\n",
    "# this is a hacky way of detecting if a tip is in English or in Spanish. \n",
    "# stopwords are standard lists of grammatical function words (\"a\", \"the\", \"of\"). \n",
    "# If tip has more than 2 Spanish stopwords for every 3 English ones, we exclude it.\n",
    "# It's not perfect but it works okay.\n",
    "def is_english(sentence):\n",
    "    from nltk import word_tokenize\n",
    "    from nltk.corpus import stopwords\n",
    "    tokens_set = set(word_tokenize(sentence))\n",
    "    return len(set(stopwords.words('english')) & tokens_set) * 1.5 > len(set(stopwords.words('spanish')) & tokens_set )\n",
    "tips['english'] = tips['description'].apply(lambda x: is_english(x))\n",
    "tips = tips[tips['english'] != False]\n",
    "tips = tips.reset_index()\n",
    "\n",
    "# split the data into the data for training/testing our models -- and the \"real life\" data we hope to use our model to help with.\n",
    "train_test_data = tips[ tips[column_of_interest].notnull() ].copy()    # if targeted_because isn't blank\n",
    "real_data = tips[~tips.isin(train_test_data)].dropna(how='all').copy() # if it is.\n",
    "\n",
    "\n",
    "print(\"Tips that need classification: {}\".format(real_data.shape))\n",
    "print(\"tips that have a classification already: {}\".format(train_test_data.shape))\n"
   ]
  },
  {
   "cell_type": "markdown",
   "metadata": {},
   "source": [
    "## Step 3. Cleaning the data to remove the things that might confuse a computer.\n",
    "\n",
    "Data cleaning is one of the most important parts of real-world natural language processing, but it's underdiscussed for at least two reasons: it's completely unsexy and it's often different for every project. Data cleaning means removing stuff that might distract a computer and combining similar but not quite identical features so that they appear identical to the computer. A good way to think about data cleaning is to ask yourself what sorts of things in your data would be what _you_ would use to categorize the data.\n",
    "\n",
    "An easy example is that we lowercase everything (in other words, making the not-quite-identical words \"Then\" and \"then\" identical by transforming the first to \"then\"), since we're working with text typed by internet users. And, we will remove punctuation and \"non-word characters\" because they're not likely to tell us much about what attribute a hate crime was targeted by. (Ask yourself, will commas tell us anything about hate crimes? Of course not.) These are very typical and built into the vectorizers... (so we don't have to do it). We may also want to remove common English words like \"a\" and \"the\" -- typically called \"stopwords\" -- this is sometimes automatic, but not always, so it's worth checking.\n",
    "\n",
    "Other examples depend on your precise dataset. There's no recipe. You have to ask yourself what words will be a distraction to the model. Here's a harder example: Consider a database of press releases from US Congress that you're trying to categorize by topic (taxation, military, education, etc.). The model should pick out the phrases used frequently by members of Congress who talk about each topic a lot. Sometimes that's good (\"deduction\", for instance)... but sometimes that's bad, like the name of former Rep. Paul Ryan's press secretary. Those words aren't actually useful for determining if something is about taxation... especially if Ryan's replacement hires his staffer.\n",
    "\n",
    "Data cleaning is the process of cogitating about the data and figuring out a way to remove the unhelpful stuff, but not the helpful stuff. This is task-specific; if we had a dataset of press releases about Wisconsin that contained Ryan's press releases but also ones from the Milwaukee Brewers that we were trying to classify into the politics or sports category, the presence of Ryan-related words like the name of his press secretary _would_ be useful. \n",
    "\n",
    "Additionally, since the Documenting Hate tip data was submitted by users, it’s possible that they made mistakes -- like marking a clearly religion-related hate crime as related to, say, gender. Or failing to select ‘immigrant’ as a category for an incident that involved the intersection of race and immigrant status. Once I had an initial model trained, I dug -- quite unscientifically -- through the data that the classifier gets wrong to see if there are some where the user-contributed answer (that we treat as ground-truth) might be wrong. We might want to change some of the answers ourselves or even merge categories. You don’t want the computer to “learn” someone else’s mistakes.\n",
    "\n",
    "We can see what words are being fed into the Naive Bayes model with `vectorizer.vocabulary_.keys()`. Let's do that and take a look. They mostly look good, right? "
   ]
  },
  {
   "cell_type": "code",
   "execution_count": 7,
   "metadata": {
    "scrolled": true
   },
   "outputs": [
    {
     "name": "stdout",
     "output_type": "stream",
     "text": [
      "cranky, 28th, decatur, designated, ezpass, reverting, tender, demonstrators, tellin, fundamental, closely, giampa, inferiors, replies, demarcate, regenerate, aprove, marxist, shoe, hallway, arabs, mart, shortest, purported, curbs, abqjew, palm, homosexuality, engange, waste, trigger, xbox, carbondale, cbp, breathe, superstition, martial, horribly, beware, netanyahu, breeds, 42nd, smythe, chuckle, attended, predators, corporation, potted, strangely, duffle, catty, harrasing, sacred, bt, leaf, revs, gecko, 1st, akbar, clarksville, muscle, advocating, meningioma, bucks, slack, americorps, fyre, hanging, offhand, efforts, agitators, paranormal, investgations, disected, humptulips, ranged, justin, bisexual, congress, marijuana, hoodie, philando, denver, marco, upholstery, for, unavailable, kenosha, 99485266, imperial, holt, parkersburg, kleeve, middletown, instagram, arbitrarily, swaztica, outpopulate, seminole, killing, considerado, spokesman, nuefeild, chugiak, escape, founded, clinical, mustard, affluent, tab, caucassian, stolen, virtually, dangerous, funneled, santa, chokes, tenants, buffalo, benches, lynching, readership, transferred, sa, siguiendo\n"
     ]
    }
   ],
   "source": [
    "from sklearn.feature_extraction.text import HashingVectorizer, CountVectorizer, TfidfVectorizer\n",
    "simple_vectorizer = TfidfVectorizer(lowercase=True) # 1,1 works well?\n",
    "simple_vectorizer.fit(tips[\"description\"])\n",
    "words = list(simple_vectorizer.vocabulary_.keys())\n",
    "random.shuffle(words)\n",
    "print(', '.join(words[:125]))"
   ]
  },
  {
   "cell_type": "markdown",
   "metadata": {},
   "source": [
    "But what if there are meaningful words that are absent from here, because they're removed by the cleaning process?\n",
    "\n",
    "🤔🤔🤔\n"
   ]
  },
  {
   "cell_type": "code",
   "execution_count": 8,
   "metadata": {
    "scrolled": true
   },
   "outputs": [
    {
     "name": "stdout",
     "output_type": "stream",
     "text": [
      "is email 'visible' to the computer? True\n",
      "is e-mail 'visible' to the computer? False\n",
      "is t-shirt 'visible' to the computer? False\n",
      "is f**king 'visible' to the computer? False\n"
     ]
    }
   ],
   "source": [
    "words_to_check = [\"email\", \"e-mail\", \"t-shirt\", \"f**king\"]\n",
    "for word in words_to_check:\n",
    "    print(\"is {} 'visible' to the computer? {}\".format(word, word in simple_vectorizer.vocabulary_.keys()))"
   ]
  },
  {
   "cell_type": "markdown",
   "metadata": {},
   "source": [
    "I think you see where we're going here...\n",
    "\n",
    "### Data Cleaning That Preserves Censored Slurs\n",
    "\n",
    "What are some words that are really informative about hate crimes, but are frequently not spelled out? Slurs. Remember when we removed \"non-word characters\"? We might want to backtrack and keep some of them, e.g. when a slur is replaced with comics-style grawlixes (\"F@#$!\"), stars, dashes or transformed into, e.g., \"the f-word\" or \"k**e\".\n",
    "\n",
    "Default text-cleaning rules will split words at hyphens, transforming the quite-informative \"f-word\" first into \"f word\", then it will remove one-letter words, so we're just left with \"word\"... which tells us basically nothing. Defaults are usually a good choice, but here's an example where they're not.\n",
    "\n",
    "So lets find some examples in the dataset so we can try to make sure they're included."
   ]
  },
  {
   "cell_type": "code",
   "execution_count": 18,
   "metadata": {
    "scrolled": true
   },
   "outputs": [
    {
     "data": {
      "text/plain": [
       "['B_t', 'C*NT', 'C-word', 'E=MC', 'F*****g']"
      ]
     },
     "execution_count": 18,
     "metadata": {},
     "output_type": "execute_result"
    }
   ],
   "source": [
    "import re\n",
    "# find words that have one alphabetic character, then one or more non-alpha chars, then more alpha chars.\n",
    "# (so this matches 'e-mail', 't-shirt', 'f***ing' but not 'anti-semitic')\n",
    "bad_words = sorted(set([item for sublist in [res for res in [re.findall(r\"(?i)(?<= )[a-z\\u00C0-\\u017Fâ€œ][^a-z0-9â€œ\\u00C0-\\u017F'’\\.\\s]+[a-z\\u00C0-\\u017Fâ€œ]+\", tip) for tip in list(tips['description'].values)] if res] for item in sublist  if not re.match(r'^(?i)[A-Za-z][&-][A-Za-z]$', item)]))\n",
    "list(bad_words)[5:10]"
   ]
  },
  {
   "cell_type": "markdown",
   "metadata": {},
   "source": [
    "Yeah okay. How're we gonna deal with that...\n",
    "\n",
    "We can verify (with the `inspect` method) that the word \"word\" makes an input tip more likely to be related to race and less likely to be related to other topics (though it's far more of a drag on, say, the `religion` class than on `sexual-orientation`.)\n",
    "\n",
    "I noodled around with this for a while... The solution didn't occur to me immediately and I tried a variety of things and changed my goals when it became clear I hadn't fully solved the problem. At the start, I just wanted words like `f-word`, `f****r`, etc. to be preserved in the data given to the classifier... by the end, I decided that I wanted as many different variants of censored words to be \"collapsed\" into the same token -- and into a token that was mostly understandable by a human (not gibberish). I also wanted to make sure that the censored words didn't get turned into an instance of an unrelated \"normal\" word.\n",
    "\n",
    "What I came up with only acts on words that are a single alphabetic character followed by one or more non-alphabetic characters followed by one or more alphabetic characters. If the non-alphabetic character string is just one hyphen, it gets turned into `dash`, so if we see `t-shirt` we turn it into `tdashshirt`. Otherwise, we replace it with the first letter, `XXX` and the last letter of the word -- so that `f*cking` and `f***ing` end up collapsed to the same thing, `fXXXg`. \n",
    "\n",
    "Inevitably, I did a fair amount of futzing around here. For a while, my regex didn't realize characters with diacritics were letters, so it started censoring the Spanish word \"pública\". I also was initially matching words like \"A&M\", which had to be excluded.\n",
    "\n",
    "The effect of this turned out not to be that great though (about half a percentage point improvement in AUC). "
   ]
  },
  {
   "cell_type": "code",
   "execution_count": 19,
   "metadata": {
    "scrolled": true
   },
   "outputs": [],
   "source": [
    "import re\n",
    "def collapse_censored_word(word):\n",
    "    if re.match(r\"(?i)[a-z\\u00C0-\\u017Fâ€œ]-[a-z\\u00C0-\\u017Fâ€œ]+\", word): # if there's just one hyphen, e.g. t-shirt, f-ing...\n",
    "        word = word.replace(\"-\", \"dash\")\n",
    "    else:\n",
    "        word = word[0] + \"XXX\" + word[-1]\n",
    "#     word = re.sub(r\"(?i)([^a-zâ€œ\\u00C0-\\u017F0-9'’\\.\\s\\-]+|-{2,})\", \"XXX\", word)\n",
    "    return word\n",
    "\n",
    "censorable_word_regex = \"[a-z\\u00C0-\\u017Fâ€œ][^a-z0-9â€œ\\u00C0-\\u017F'’\\.\\s]+[a-z\\u00C0-\\u017Fâ€œ]+\"\n",
    "def clean(text):\n",
    "    potential_censored_words = re.findall(r\"(?i)(?<=[ \\(\\\"\\'])\" + censorable_word_regex, text) + re.findall(\"(?i)^\" + censorable_word_regex, text)\n",
    "    for word in potential_censored_words:\n",
    "        text = text.replace(word, collapse_censored_word(word))\n",
    "    return text.replace(\"“\", '').replace(\"’s\", \" 's\").replace(\"'s\", \" 's\")"
   ]
  },
  {
   "cell_type": "markdown",
   "metadata": {},
   "source": [
    "See how it works? Rather than just retaining \"word\", we retain something meaningful."
   ]
  },
  {
   "cell_type": "code",
   "execution_count": 20,
   "metadata": {},
   "outputs": [
    {
     "data": {
      "text/plain": [
       "'Qdashword is bad'"
      ]
     },
     "execution_count": 20,
     "metadata": {},
     "output_type": "execute_result"
    }
   ],
   "source": [
    "clean(\"Q-word is bad\")"
   ]
  },
  {
   "cell_type": "code",
   "execution_count": 21,
   "metadata": {},
   "outputs": [
    {
     "name": "stdout",
     "output_type": "stream",
     "text": [
      "Total censored words: 120\n",
      "Total censored words after cleaning: 73\n"
     ]
    }
   ],
   "source": [
    "# checking how many bad words are collapsed with this method\n",
    "print(\"Total censored words: {}\".format(len(bad_words)))\n",
    "unified_bad_words = {}\n",
    "for word, clean_word in [(word, collapse_censored_word(word)) for word in bad_words]:\n",
    "    if clean_word not in unified_bad_words:\n",
    "        unified_bad_words[clean_word] = []\n",
    "    unified_bad_words[clean_word].append(word)\n",
    "print(\"Total censored words after cleaning: {}\".format(len(set( unified_bad_words.keys()))))"
   ]
  },
  {
   "cell_type": "markdown",
   "metadata": {},
   "source": [
    "Once we've come up with a way to clean the text that we like, we do it.\n",
    "\n",
    "`lemmatize` relies on a library called Spacy. It removes verb endings from words -- on the theory that we learn more by treating \"punch\" and \"punching\" and \"punched\" as the same word, especially when we have a small dataset. It adds a few percentage points of AUPR for several of the classes (but not race_ethnicity) with NB. For CNN it improves or does nothing (and costs one percentage point in a few places; immigrant does worse with the default dropout1=0.02 but dropout1=0.01 fixes the problem)\n"
   ]
  },
  {
   "cell_type": "code",
   "execution_count": 22,
   "metadata": {},
   "outputs": [],
   "source": [
    "def lemmatize(doc):\n",
    "    return ' '.join([token.lemma_ for token in nlp(doc)])\n",
    "\n",
    "train_test_data[\"description\"] = train_test_data[\"description\"].apply(clean)\n",
    "train_test_data[\"description\"] = train_test_data[\"description\"].apply(lemmatize)"
   ]
  },
  {
   "cell_type": "markdown",
   "metadata": {},
   "source": [
    "### Preparing to predict targeted_because\n",
    "\n",
    "Right now, the `targeted_because` column is exactly as it was in our source data (except we removed the blanks rows, the trolls, etc.) -- that is, a string with commas. The \"typical\" format for machine-learning projects like this one is to have one column for each possible targeting reason (race, etc.) and then a `1` in that column for each description if it has that class and a `0` if it doesn't. \n",
    "\n",
    "You can do that however you like, but we're using the MultiLabelBinarizer class from scikit-learn.\n",
    "\n",
    "I'm also adding the `race_ethnicity` column that's `1` (i.e. true) if the hate incident is classified as either `race` or `ethnicity`-related by the tipster. That's because I guess that some tipsters are going to mix them up, which'd confuse the computer. \n",
    "\n",
    "I wonder if merging `race` and `ethnicity` categories might be a good idea -- only because people may use the terms interchangably on the form in a way that the computer can't learn the nuanced distinction between them.\n"
   ]
  },
  {
   "cell_type": "code",
   "execution_count": 27,
   "metadata": {},
   "outputs": [],
   "source": [
    "# split the comma-separated targeted_because column into an actual list.\n",
    "train_test_data[column_of_interest] = train_test_data[column_of_interest].apply(lambda x: x.split(\",\") if type(x) != list else x)\n",
    "\n",
    "# since we're doing a multi-label classification problem -- aka a single incident can involve targeting someone for \n",
    "# one or more of the possible labels (e.g. race AND religion AND immigrant status) -- we need to do some data preprocessing.\n",
    "# 'disability', 'ethnicity', 'gender', 'immigrant', 'race', 'religion', 'sexual-orientation'\n",
    "# we're actually going to be doing 7 classifiers, one to see if a description matches each label or not.\n",
    "lb = MultiLabelBinarizer()\n",
    "labels_df = pd.DataFrame(lb.fit_transform(train_test_data[column_of_interest]), columns=list(lb.classes_), index=train_test_data.index)\n",
    "train_test_data_one_hot = pd.concat([train_test_data[[\"description\", column_of_interest]], labels_df], axis=1)\n",
    "# print(train_test_data_one_hot[[idx for idx in train_test_data_one_hot.columns if idx != 'description']])\n",
    "train_test_data_one_hot[\"race_ethnicity\"] = train_test_data_one_hot.apply(lambda x: 1.0 if x[\"race\"] or x[\"ethnicity\"] else 0.0, axis=1)\n",
    "train_test_data_one_hot[[\"description\", \"race_ethnicity\"]].to_csv(\"data/dochate/dochate_for_automl.csv\", header=False, index=False)\n",
    "unique_classes = list(set([item for sublist in train_test_data[column_of_interest].values for item in sublist])) + [\"race_ethnicity\"]"
   ]
  },
  {
   "cell_type": "markdown",
   "metadata": {},
   "source": [
    "So here's our data looks like now.\n",
    "\n",
    "````\n",
    "                      description                race           gender     ...\n",
    "0     I was the victim of a hate crime.            0               1\n",
    "1     I also was a hate crime victim.              1               0\n",
    "````"
   ]
  },
  {
   "cell_type": "markdown",
   "metadata": {},
   "source": [
    "Before we get started with actual machine learning, this is how many hate incidents of each class we have. It's generally harder to predict classes that have fewer examples. (The computer, which is quite dumb, never learns what words from the 129 disability-related reports indicate it's a disability-related report as opposed to a word that happens to be included in the report, like a city name.) That's why we don't do a great job with guessing which tips have to do with disability or gender."
   ]
  },
  {
   "cell_type": "code",
   "execution_count": 28,
   "metadata": {},
   "outputs": [
    {
     "name": "stdout",
     "output_type": "stream",
     "text": [
      "        disability:  127 / 3710   |  3%\n",
      "         ethnicity: 1236 / 3710   |  33%\n",
      "            gender:  374 / 3710   |  10%\n",
      "         immigrant:  745 / 3710   |  20%\n",
      "              race: 1838 / 3710   |  50%\n",
      "          religion:  948 / 3710   |  26%\n",
      "sexual-orientation:  655 / 3710   |  18%\n",
      "    race_ethnicity: 2428 / 3710\n"
     ]
    }
   ],
   "source": [
    "#  are any of these columns so rare as to be useless to try to predict?\n",
    "from itertools import groupby\n",
    "all_values = [item for sublist in train_test_data[\"targeted_because\"].values for item in sublist]\n",
    "total = len(train_test_data)\n",
    "for cnt, label in [(len(list(g)), k) for k, g in groupby((sorted(all_values)))]:\n",
    "    print(\"{}: {} / {}   |  {}%\".format(label.rjust(18), str(cnt).rjust(len(str(total))), total, round(cnt / float(total) * 100) ))\n",
    "\n",
    "print(\"{}: {} / {}\".format(\"race_ethnicity\".rjust(18), str(len(train_test_data[train_test_data_one_hot[\"race_ethnicity\"] == 1.0])).rjust(len(str(total))), total)) "
   ]
  },
  {
   "cell_type": "markdown",
   "metadata": {},
   "source": [
    "## Step 4. Choosing an algorithm\n",
    "\n",
    "Naive Bayes is a simple machine-learning technique (i.e. there's no calculus) but it works well. It's what we're trying first.\n",
    "\n",
    "Later in this notebook, I'll be trying several algorithms for two reasons (a) as a learning exercise and (b) because machine learning is often such that one algorithm will mysteriously work better than others for a given task, just for idiosyncratic reasons, so it can be worthwhile to try several. Be aware that a lot of them require the data to be in different formats -- that’s step 4 -- so it requires a little extra work.\n",
    "\n",
    "I’d lean towards picking simpler algorithms over more complex ones… especially if you have relatively little data.\n",
    "\n",
    "### Here are the algorithms I tried.\n",
    "\n",
    " - Naive Bayes\n",
    " - a ‘vanilla’ neural net\n",
    " - a convolutional neural network\n",
    " - an LSTM neural network\n",
    " - Google’s NLP AutoML\n",
    " - Spacy’s text classification\n",
    "\n",
    "Spoiler alert: the convolutional neural net works a tiny bit better than naive Bayes, but only a touch. And it's more complicated.\n",
    "\n",
    "For each algorithm, we will do the next two steps:\n",
    "\n",
    "5. Formatting the data in the way that your chosen algorithm requires it. \n",
    "6. Feeding most of your data to your algorithm and perhaps waiting a few minutes."
   ]
  },
  {
   "cell_type": "markdown",
   "metadata": {},
   "source": [
    "## Naive Bayes\n",
    "\n",
    "This is a pretty basic classification algorithm, but it worked well in my experimentation.\n",
    "\n",
    "We're actually doing seven classifiers, one for each of those options, predicting if a given description matches `race` or not, another predicting if it matches `sexual-orientation` or not, etc."
   ]
  },
  {
   "cell_type": "code",
   "execution_count": 30,
   "metadata": {},
   "outputs": [],
   "source": [
    "from sklearn.naive_bayes import MultinomialNB, ComplementNB\n",
    "from sklearn.feature_extraction.text import HashingVectorizer, CountVectorizer, TfidfVectorizer\n",
    "from sklearn.metrics import classification_report\n",
    "from sklearn.model_selection import KFold\n",
    "from os.path import join\n",
    "from os import makedirs\n",
    "import pickle"
   ]
  },
  {
   "cell_type": "markdown",
   "metadata": {},
   "source": [
    "### Step 5: Formatting the data in the way that our chosen algorithm requires it. \n",
    "\n",
    "At this point, our tips are in English. But computers can’t read! So we’re going to have to modify the data to a particular “format” for Naive Bayes.\n",
    "\n",
    "That algorithm requires words to be represented by numbers -- a process called vectorizing.\n",
    "\n",
    "I used the scikit-learn package’s TfidfVectorizer to do this, after experimenting with the HashingVectorizer and CountVectorizer. (The performance was about the same.) TfidfVectorizer transforms each tip into a list of numbers: reflecting the TF-IDF score for each token (aka word) in that tip (calculated against the entire corpus of all tips). Implicitly, each position into the list refers to an individual word -- and most of the entries in the list are 0, for words that exist in our dataset, but not in this particular tip. So a \"vectorized\" tip might look like this:\n",
    "\n",
    "```\n",
    "[0.1, 0, 0, 0, 0, 0.2, 0.11, 0, 0, 0]\n",
    "```\n",
    "\n",
    "The vectorizers also have the option to generate \"n-grams\" -- aka pairing together 2 or 3 word chunks and treating them as tokens too. For instance, the word \"my\" and the word \"country\" might not be informative about the tip of hate incident alone, but when they occur together, \"my country\" is probably a strong sign of an immigration-related incident. This tactic is often successful, but it gave worse results here.\n",
    "\n",
    "We also split our data into two groups: training data and test data. Won’t the model do better with more training data? Yes, but we keep some portion to the side, so we can evaluate how the model did, with data it wasn’t trained on (but that we know the right answers for)."
   ]
  },
  {
   "cell_type": "code",
   "execution_count": 31,
   "metadata": {
    "scrolled": true
   },
   "outputs": [
    {
     "name": "stdout",
     "output_type": "stream",
     "text": [
      "what (part of) a vectorized tip looks like: \n",
      "[0.0, 0.0, 0.0, 0.0, 0.0, 0.0, 0.0, 0.0, 0.0, 0.0, 0.0, 0.0, 0.0, 0.0, 0.0, 0.0, 0.0, 0.0, 0.0, 0.0, 0.0, 0.0, 0.0, 0.0, 0.0, 0.0, 0.0, 0.0, 0.0, 0.0, 0.0, 0.0, 0.0, 0.0, 0.0, 0.0, 0.0, 0.0, 0.0, 0.0, 0.0, 0.0, 0.0, 0.0, 0.0, 0.0, 0.0, 0.0, 0.0, 0.0]\n"
     ]
    }
   ],
   "source": [
    "def equalize_classes(predictor, response):\n",
    "    return SMOTE(random_state=RANDOM_SEED).fit_sample(predictor, response)\n",
    "\n",
    "\n",
    "train_df, test_df = train_test_split(train_test_data_one_hot, \n",
    "                                     test_size=0.2, \n",
    "                                     shuffle=True,\n",
    "                                     random_state=RANDOM_SEED)\n",
    "\n",
    "train_features_nb = train_df[\"description\"]\n",
    "test_features_nb = test_df[\"description\"]\n",
    "\n",
    "vectorizer = TfidfVectorizer(ngram_range=(1,1),   # 1,1 works well?\n",
    "                             # max_features=5000, # works best with max_features set to None.\n",
    "                             lowercase=True)      # automatically lowercase each word.\n",
    "vectorizer.fit(train_features_nb)\n",
    "\n",
    "train_features_nb_vec = vectorizer.transform(train_features_nb)\n",
    "test_features_nb_vec = vectorizer.transform(test_features_nb)\n",
    "\n",
    "print(\"what (part of) a vectorized tip looks like: \")\n",
    "print(train_features_nb_vec[0].toarray()[0].tolist()[200:250])\n",
    "\n"
   ]
  },
  {
   "cell_type": "markdown",
   "metadata": {},
   "source": [
    "### Step 6: Feeding most of your data to your algorithm and perhaps waiting a few minutes.\n",
    "\n",
    "Finally! Let's train our model. We'll actually train seven models, one for each of our classes.\n",
    "\n",
    "This is the part where the computer is learning. And it’s pretty simple, from your perspective. It's this line: `naivebayes_classifier.fit(train_features_nb_vec, train_labels_nb)`. \n",
    "\n",
    "For each of our classes, we have differing amounts of tips. For instance, we have 749 tips of incidents that involve immigrant status, out of 3732 total tagged tips, so 20%. This is a problem. Imagine if we had a very dumb model that predicted that nothing was immigrant-status related; it'd get 80% accuracy! So we have to \"equalize\" the imbalanced classes. We're doing that with SMOTE oversampling (but there are other options).\n",
    "\n"
   ]
  },
  {
   "cell_type": "code",
   "execution_count": 64,
   "metadata": {},
   "outputs": [
    {
     "name": "stdout",
     "output_type": "stream",
     "text": [
      "Training models for ...\n",
      " - disability\n",
      " - ethnicity\n",
      " - gender\n",
      " - immigrant\n",
      " - race\n",
      " - religion\n",
      " - sexual-orientation\n",
      " - race_ethnicity\n"
     ]
    }
   ],
   "source": [
    "classifiers = {}\n",
    "print(\"Training models for ...\")\n",
    "for class_of_interest in [col for col in train_test_data_one_hot.columns if col != \"description\" and col != 'targeted_because']:\n",
    "    print(\" - \" + class_of_interest)\n",
    "    naivebayes_classifier = MultinomialNB()\n",
    "    train_labels_nb = train_df[class_of_interest]\n",
    "    test_labels_nb = test_df[class_of_interest]\n",
    "\n",
    "    train_features_equalized_nb_vec, train_labels_equalized_nb = equalize_classes(train_features_nb_vec, train_labels_nb)\n",
    "\n",
    "    naivebayes_classifier.fit(train_features_equalized_nb_vec, train_labels_equalized_nb) # <-- TRAINING\n",
    "\n",
    "    classifiers[class_of_interest] = naivebayes_classifier\n"
   ]
  },
  {
   "cell_type": "markdown",
   "metadata": {},
   "source": [
    "### Step 6. Looking at the results and deciding if it’s good enough or not -- and if it isn’t, repeating steps 2-6 as necessary.\n",
    "\n",
    "So we're going to see how we did at the end of the next cell. But how do we know how well our model did?\n",
    "\n",
    "`area under precision-recall curve` is a \"metric\" that's good for measuring classifiers with imbalanced classes -- a dataset is imbalanced when it isn't just 50% of one class and 50% of another, but instead has, say, 26% religion-related hate incidents and thus 74% non-religion-related. It's plotting precision (avoiding false positives) against recall (avoiding false negatives). The area under that curve is a proportion; the higher the better. If the area under the precision recall curve is significantly higher than the proportion of classses in our test data, then our model has learned to make a distinction between the two classes, however imperfectly.\n",
    "\n",
    "In that example, you’d be comparing the area under the precision-recall curve to the proportion of your testing data that has the religion class -- if your model has more than 26% area under the precision-recall curve, it’s working. If it’s got a lot more than 26%, it’s working pretty well.\n",
    "\n",
    "We also show the confusion matrix, which plots the model's guesses against the right answers. Bigger numbers in the top-left and bottom-right are better; the top-right is false negatives and top-left is false positives."
   ]
  },
  {
   "cell_type": "code",
   "execution_count": 65,
   "metadata": {},
   "outputs": [
    {
     "name": "stdout",
     "output_type": "stream",
     "text": [
      "\n",
      "disability\n",
      "area under  PR curve:  0.68\n",
      "If the AUPR score (0.6807504776362596) is more than a little bigger than the baseline (0.6563342318059299), which it *is*, then our model is working!\n",
      "\n",
      "\n",
      "\n",
      "ethnicity\n",
      "area under  PR curve:  0.8\n",
      "If the AUPR score (0.8002249439051338) is more than a little bigger than the baseline (0.6563342318059299), which it *is*, then our model is working!\n",
      "\n",
      "\n",
      "\n",
      "gender\n",
      "area under  PR curve:  0.63\n",
      "If the AUPR score (0.6319593009558203) is more than a little bigger than the baseline (0.6563342318059299), which it *is*, then our model is working!\n",
      "\n",
      "\n",
      "\n",
      "immigrant\n",
      "area under  PR curve:  0.77\n",
      "If the AUPR score (0.7732047968744618) is more than a little bigger than the baseline (0.6563342318059299), which it *is*, then our model is working!\n",
      "\n",
      "\n",
      "\n",
      "race\n",
      "area under  PR curve:  0.88\n",
      "If the AUPR score (0.8807390613874166) is more than a little bigger than the baseline (0.6563342318059299), which it *is*, then our model is working!\n",
      "\n",
      "\n",
      "\n",
      "religion\n",
      "area under  PR curve:  0.55\n",
      "If the AUPR score (0.545680249173754) is more than a little bigger than the baseline (0.6563342318059299), which it *is*, then our model is working!\n",
      "\n",
      "\n",
      "\n",
      "sexual-orientation\n",
      "area under  PR curve:  0.56\n",
      "If the AUPR score (0.5569133421769314) is more than a little bigger than the baseline (0.6563342318059299), which it *is*, then our model is working!\n",
      "\n",
      "\n",
      "\n",
      "race_ethnicity\n",
      "area under  PR curve:  0.9\n",
      "If the AUPR score (0.9040488375018177) is more than a little bigger than the baseline (0.6563342318059299), which it *is*, then our model is working!\n",
      "\n",
      "\n"
     ]
    }
   ],
   "source": [
    "for class_of_interest in [col for col in train_test_data_one_hot.columns if col != \"description\" and col != 'targeted_because']:\n",
    "    naivebayes_classifier = classifiers[class_of_interest]\n",
    "    predicted_probabilities_nb = naivebayes_classifier.predict_proba(test_features_nb_vec)[:,1]\n",
    "    predicted_labels_nb = [(1.0 if proba > 0.5 else 0.0) for proba in predicted_probabilities_nb]\n",
    "#     print(confusion_matrix(test_labels_nb, predicted_labels_nb, labels=[1., 0.]))\n",
    "    print()\n",
    "    \n",
    "    pr_baseline = float(len([a for a in test_labels_nb if a]))/len(test_labels_nb)\n",
    "    pr_score = average_precision_score(test_labels_nb, predicted_probabilities_nb)\n",
    "    print(class_of_interest)\n",
    "    print(\"area under  PR curve: \", round(pr_score, 2))\n",
    "    print(\"If the AUPR score ({}) is more than a little bigger than the baseline ({}), which it *{}*, then our model is working!\".format(pr_score, pr_baseline, \"is\" if pr_score - (pr_baseline * 1.1) else \"isn't\" ))\n",
    "    print()\n",
    "    print() "
   ]
  },
  {
   "cell_type": "markdown",
   "metadata": {},
   "source": [
    "You can see a chart of the precision-recall curve below. If we had a different goal, we might rather have false positive than false negatives (or vice versa); the values of precision for each possible recall goal are what is plotted here.\n"
   ]
  },
  {
   "cell_type": "code",
   "execution_count": 39,
   "metadata": {},
   "outputs": [
    {
     "data": {
      "image/png": "[encoded data removed]",
      "text/plain": [
       "<Figure size 432x288 with 1 Axes>"
      ]
     },
     "metadata": {
      "needs_background": "light"
     },
     "output_type": "display_data"
    }
   ],
   "source": [
    "pr_chart(test_labels_nb, predicted_probabilities_nb)"
   ]
  },
  {
   "cell_type": "markdown",
   "metadata": {},
   "source": [
    "## Keras Neural Nets\n",
    "via https://www.tensorflow.org/tutorials/keras/basic_text_classification\n",
    "\n",
    "Neural nets are very trendy and for good reason: they're very powerful and can \"learn\" patterns that are too complicated for Naive Bayes.\n",
    "\n",
    "Neural nets are a category, not an individual model algorithm. We're going to try two different ones:\n",
    "\n",
    " - a basic neural net\n",
    " - a convolutional neural net\n",
    " \n",
    "Both networks learn \"embeddings\" for each word in our tips. These are akin to word2vec-style vectors, but where those vectors are trained on a large general-purpose dataset, ours are trained just for this purpose (and trained on a lot less data). I tried using word2vec vectors, but it didn't work as well. The vectors are equivalent to the output of the TfidfVectorizer that we used for Naive Bayes.\n",
    "\n",
    "The convolutional neural net does better than the basic one, likely because it takes into account each word's context.\n",
    "\n",
    "(I also tried an LSTM, but I couldn't get it to work! I suspect because I don't have enough data.)"
   ]
  },
  {
   "cell_type": "markdown",
   "metadata": {},
   "source": [
    "Here's some shared settings for both kinds of models."
   ]
  },
  {
   "cell_type": "code",
   "execution_count": 45,
   "metadata": {},
   "outputs": [],
   "source": [
    "from __future__ import absolute_import, division, print_function\n",
    "WORDS_TO_KEEP = 10000 # should really be 10000\n",
    "tokenizer = keras.preprocessing.text.Tokenizer(num_words=WORDS_TO_KEEP)\n",
    "VALIDATION_SET_SIZE = 1000\n",
    "SHOULD_EQUALIZE = True\n",
    "VOCAB_SIZE = WORDS_TO_KEEP + 3\n",
    "MAX_SEQUENCE_LENGTH = 256"
   ]
  },
  {
   "cell_type": "markdown",
   "metadata": {},
   "source": [
    "### Step 5: Formatting the data in the way that our chosen algorithm requires it. \n",
    "\n",
    "Unlike Naive Bayes, the neural nets take the words as a list of numbers, where each number corresponds directly to a token (aka word). Each list has to be the same length, so we have a special character for padding that gets added at the end of shorter tips. So a tip encoded for Keras might look like. `[46, 3449, 9, 172, 15, 6, 1054, 0, 0, 0 ... 0, 0]`"
   ]
  },
  {
   "cell_type": "code",
   "execution_count": 46,
   "metadata": {},
   "outputs": [
    {
     "name": "stdout",
     "output_type": "stream",
     "text": [
      "We have 16135 total words.\n"
     ]
    }
   ],
   "source": [
    "# via https://www.tensorflow.org/tutorials/keras/basic_text_classification\n",
    "train_df, test_df = train_test_split(train_test_data_one_hot, test_size=0.2, shuffle=True, random_state=RANDOM_SEED)\n",
    "\n",
    "tokenizer.fit_on_texts(train_test_data_one_hot[\"description\"])\n",
    "print(\"We have {} total words.\".format(max(tokenizer.word_index.values())))\n",
    "\n",
    "word_index = {k:(v+3) for k,v in tokenizer.word_index.items()} \n",
    "word_index[\"<PAD>\"] = 0\n",
    "word_index[\"<START>\"] = 1\n",
    "word_index[\"<UNK>\"] = 2  # unknown\n",
    "word_index[\"<UNUSED>\"] = 3\n",
    "\n",
    "reverse_word_index = dict([(value, key) for (key, value) in word_index.items()])\n",
    "\n",
    "def decode_text(text):\n",
    "    return ' '.join([reverse_word_index.get(i, '?') for i in text])\n",
    "def encode_texts(texts):\n",
    "    return [[word_index['<START>']] + [idx + 3 for idx in list(idxs)] for idxs in tokenizer.texts_to_sequences(texts)[:]]\n",
    "def encode_text(text):\n",
    "    return encode_texts([text])[0]"
   ]
  },
  {
   "cell_type": "markdown",
   "metadata": {},
   "source": [
    "These are some helper methods we'll use for all the kinds of neural nets. The `train_keras_model` method combines steps 4-6: preparing the input data, training the model, and printing out evaluation stats."
   ]
  },
  {
   "cell_type": "code",
   "execution_count": 50,
   "metadata": {
    "scrolled": true
   },
   "outputs": [],
   "source": [
    "def equalize_classes_keras(predictor, response):\n",
    "    return SMOTE(random_state=RANDOM_SEED).fit_sample(predictor, response)\n",
    "\n",
    "def train_keras_model(model_fn, train_df, test_df, epochs=40, should_equalize=SHOULD_EQUALIZE, classes_of_interest=None):\n",
    "    # several of the algorithms we test here make use of randomness. and we split the data into train/test groups randomly.\n",
    "    # in order to make sure that every time we run this notebook, we get the same results (rather than a\n",
    "    # \"good\" split making one algorithm choice seem better), we set an arbitrary number (1234) as the seed for all the \n",
    "    # random number generators.\n",
    "    keras.backend.clear_session()\n",
    "    np.random.seed(RANDOM_SEED)\n",
    "    random.seed(RANDOM_SEED)\n",
    "    tf.set_random_seed(RANDOM_SEED)\n",
    "    \n",
    "    histories = {}\n",
    "\n",
    "    # preparing the input data.\n",
    "    train_data = np.array(encode_texts(train_df[\"description\"]))\n",
    "    test_data = np.array(encode_texts(test_df[\"description\"]))\n",
    "    train_data = keras.preprocessing.sequence.pad_sequences(train_data,\n",
    "                                                            value=word_index[\"<PAD>\"],\n",
    "                                                            padding='post',\n",
    "                                                            maxlen=256)\n",
    "    test_data = keras.preprocessing.sequence.pad_sequences(test_data,\n",
    "                                                           value=word_index[\"<PAD>\"],\n",
    "                                                           padding='post',\n",
    "                                                           maxlen=256)\n",
    "    for class_of_interest in classes_of_interest:\n",
    "        train_labels = train_df[class_of_interest]\n",
    "        test_labels = test_df[class_of_interest]\n",
    "\n",
    "        if should_equalize:\n",
    "            equalized_train_data, equalized_train_labels = equalize_classes_keras(train_data, train_labels)\n",
    "        else:\n",
    "            equalized_train_data = train_data.copy()\n",
    "            equalized_train_labels = train_labels.copy()\n",
    "\n",
    "        x_val = equalized_train_data[:VALIDATION_SET_SIZE]\n",
    "        partial_x_train = equalized_train_data[VALIDATION_SET_SIZE:]\n",
    "\n",
    "        y_val = equalized_train_labels[:VALIDATION_SET_SIZE]\n",
    "        partial_y_train = equalized_train_labels[VALIDATION_SET_SIZE:]\n",
    "        model = model_fn()\n",
    "        print(class_of_interest)\n",
    "        history = model.fit(partial_x_train,\n",
    "                            partial_y_train,\n",
    "                            epochs=epochs,\n",
    "                            batch_size=256,\n",
    "                            validation_data=(x_val, y_val),\n",
    "                            verbose=0\n",
    "                           )\n",
    "        results = model.evaluate(test_data, test_labels)\n",
    "        histories[class_of_interest] = history\n",
    "        predicted_probabilities = model.predict(test_data)\n",
    "        predicted_labels = [1.0 if proba > 0.5 else 0.0 for proba in predicted_probabilities]\n",
    "        # print(confusion_matrix(test_labels, predicted_labels, labels=[1., 0.]))\n",
    "        pr_score    = average_precision_score(test_labels, predicted_probabilities)\n",
    "        pr_baseline = float(len([a for a in test_labels if a]))/len(test_labels)\n",
    "        print(\"Area under  PR curve: \", round(pr_score, 2))\n",
    "        print(\"If the AUPR score ({}) is more than a little bigger than the baseline ({}), which it *{}*, then our model is working!\".format(round(pr_score, 2), round(pr_baseline, 2), \"is\" if pr_score - (pr_baseline * 1.1) else \"isn't\" ))\n",
    "\n",
    "        print()\n",
    "        print()\n",
    "    return [histories, test_labels, predicted_probabilities]"
   ]
  },
  {
   "cell_type": "code",
   "execution_count": 51,
   "metadata": {},
   "outputs": [],
   "source": [
    "def embedding_layer(word2vec=False):\n",
    "    if word2vec: \n",
    "        EMBEDDING_DIM = 200\n",
    "        from gensim.models import Word2Vec\n",
    "        w2v = Word2Vec.load(\"my_word2vec_model.bin\")\n",
    "        embedding_matrix = np.zeros((len(word_index) + 1, EMBEDDING_DIM))\n",
    "        for word, i in word_index.items():\n",
    "            embedding_vector = w2v[word.lower()] if word in w2v else None\n",
    "            if embedding_vector is not None:\n",
    "                # words not found in embedding index will be all-zeros.\n",
    "                embedding_matrix[i] = embedding_vector\n",
    "\n",
    "        return keras.layers.Embedding(len(word_index) + 1,\n",
    "                                  EMBEDDING_DIM,\n",
    "                                  weights=[embedding_matrix],\n",
    "                                  input_length=MAX_SEQUENCE_LENGTH,\n",
    "                                  trainable=False) # \n",
    "    else: \n",
    "        return keras.layers.Embedding(VOCAB_SIZE, 16)\n"
   ]
  },
  {
   "cell_type": "markdown",
   "metadata": {},
   "source": [
    "### Basic Keras NN\n",
    "\n",
    "This is a very basic neural net. "
   ]
  },
  {
   "cell_type": "code",
   "execution_count": 54,
   "metadata": {},
   "outputs": [],
   "source": [
    "def basic_model():\n",
    "    model = keras.Sequential()\n",
    "    model.add(embedding_layer())\n",
    "    model.add(keras.layers.GlobalAveragePooling1D())\n",
    "    model.add(keras.layers.Dense(16, activation=tf.nn.relu))\n",
    "    model.add(keras.layers.Dense(1, activation=tf.nn.sigmoid))\n",
    "    model.compile(optimizer='adam',\n",
    "                  loss='binary_crossentropy',\n",
    "                  metrics=['accuracy'])\n",
    "    # model.summary()\n",
    "    return model"
   ]
  },
  {
   "cell_type": "markdown",
   "metadata": {},
   "source": [
    "As you can see, this model doesn't do as well as Naive Bayes. It also takes a lot longer to train, hence the progress bars."
   ]
  },
  {
   "cell_type": "code",
   "execution_count": 55,
   "metadata": {},
   "outputs": [
    {
     "name": "stdout",
     "output_type": "stream",
     "text": [
      "742/742 [==============================] - 0s 32us/sample - loss: 0.7459 - acc: 0.2615\n",
      "religion\n",
      "Area under  PR curve:  0.34\n",
      "PR Baseline         :  0.24123989218328842\n",
      "If the AUPR score (0.34) is more than a little bigger than the baseline (0.24), which it *is*, then our model is working!\n",
      "\n",
      "\n",
      "742/742 [==============================] - 0s 43us/sample - loss: 0.7171 - acc: 0.3518\n",
      "ethnicity\n",
      "Area under  PR curve:  0.43\n",
      "PR Baseline         :  0.35175202156334234\n",
      "If the AUPR score (0.43) is more than a little bigger than the baseline (0.35), which it *is*, then our model is working!\n",
      "\n",
      "\n",
      "742/742 [==============================] - 0s 35us/sample - loss: 0.8048 - acc: 0.1685\n",
      "sexual-orientation\n",
      "Area under  PR curve:  0.17\n",
      "PR Baseline         :  0.16711590296495957\n",
      "If the AUPR score (0.17) is more than a little bigger than the baseline (0.17), which it *is*, then our model is working!\n",
      "\n",
      "\n",
      "742/742 [==============================] - 0s 84us/sample - loss: 0.8311 - acc: 0.1105\n",
      "gender\n",
      "Area under  PR curve:  0.1\n",
      "PR Baseline         :  0.1105121293800539\n",
      "If the AUPR score (0.1) is more than a little bigger than the baseline (0.11), which it *is*, then our model is working!\n",
      "\n",
      "\n",
      "742/742 [==============================] - 0s 53us/sample - loss: 0.8521 - acc: 0.0283\n",
      "disability\n",
      "Area under  PR curve:  0.03\n",
      "PR Baseline         :  0.02830188679245283\n",
      "If the AUPR score (0.03) is more than a little bigger than the baseline (0.03), which it *is*, then our model is working!\n",
      "\n",
      "\n",
      "742/742 [==============================] - 0s 51us/sample - loss: 0.7844 - acc: 0.2143\n",
      "immigrant\n",
      "Area under  PR curve:  0.29\n",
      "PR Baseline         :  0.21428571428571427\n",
      "If the AUPR score (0.29) is more than a little bigger than the baseline (0.21), which it *is*, then our model is working!\n",
      "\n",
      "\n",
      "742/742 [==============================] - 0s 42us/sample - loss: 0.6918 - acc: 0.5418\n",
      "race\n",
      "Area under  PR curve:  0.56\n",
      "PR Baseline         :  0.48517520215633425\n",
      "If the AUPR score (0.56) is more than a little bigger than the baseline (0.49), which it *is*, then our model is working!\n",
      "\n",
      "\n",
      "742/742 [==============================] - 0s 51us/sample - loss: 0.7289 - acc: 0.4111\n",
      "race_ethnicity\n",
      "Area under  PR curve:  0.7\n",
      "PR Baseline         :  0.6563342318059299\n",
      "If the AUPR score (0.7) is more than a little bigger than the baseline (0.66), which it *is*, then our model is working!\n",
      "\n",
      "\n"
     ]
    }
   ],
   "source": [
    "histories, test_labels, predicted_probas = train_keras_model(basic_model, train_df, test_df, epochs=5, classes_of_interest=list(set(all_values)) + ['race_ethnicity'])"
   ]
  },
  {
   "cell_type": "markdown",
   "metadata": {},
   "source": [
    "## Keras CNN:\n",
    "\n"
   ]
  },
  {
   "cell_type": "markdown",
   "metadata": {},
   "source": [
    "### Step 6. Looking at the results and deciding if it’s good enough or not -- and if it isn’t, repeating steps 2-6 as necessary.\n",
    "\n",
    "Convolutional neural nets were revolutionary in how they improved neural nets' performance with text by examining several words at once. Other people undoubtedly would do a better job explaining how that works!\n",
    "\n",
    "While the performance of CNNs can be great, they have a LOT of settings that you can fiddle with to change how well they do. Learning rates, embedding dimensions, the number of epochs, etc. And they even depend on starting off with a certain amount of randomness, so running the same model twice on the same data (if you're not careful) can get you different results! \n",
    "\n",
    "Other tutorials will do you a better job explaining how to do that too, though below I discuss using a \"grid search\" to try to help.\n",
    "\n",
    "### repeatability\n",
    "\n",
    "However, I went down the rabbithole of making my runs repeatable: this is really hard becuase there are several sources of randomness and Jupyter notebooks all happen within the same Python session. In the process, I learned something important about _keras_ sessions -- a model is built within a session, so when you train a model twice within the same session, you're really just (it seems?) training the same model at double the epochs. So to make stuff repeatable, we need to re-set the random seeds AND start a new session AND re-declare the model.\n",
    "```\n",
    "    keras.backend.clear_session()\n",
    "    np.random.seed(RANDOM_SEED)\n",
    "    random.seed(RANDOM_SEED)\n",
    "    tf.set_random_seed(RANDOM_SEED)\n",
    "```"
   ]
  },
  {
   "cell_type": "code",
   "execution_count": 76,
   "metadata": {},
   "outputs": [],
   "source": [
    "def cnn_model(learning_rate=0.001, dropout_embedding=0.0, dropout1=0.2, dropout2=0.2, dropout3=0.2, embedding_dim=32, num_filters=32, kernel_size=5 ):\n",
    "    keras.backend.clear_session()\n",
    "\n",
    "    adam = keras.optimizers.Adam(lr=learning_rate) # default lr = 0.001\n",
    "\n",
    "    model = keras.Sequential()\n",
    "    model.add(keras.layers.Embedding(VOCAB_SIZE, embedding_dim, input_length=MAX_SEQUENCE_LENGTH))\n",
    "    # dropout here doesn't help.\n",
    "    # model.add(keras.layers.Dropout(dropout_embedding))\n",
    "    model.add(keras.layers.Conv1D(num_filters, kernel_size, activation='relu'))\n",
    "    model.add(keras.layers.Dropout(dropout1)) # 0.4 works better than 0.5 here (but not dramatically); 0.3 does better than 0.4 maybe?, 0.2 actually does better than both (and better than NB, at 86/92)\n",
    "    model.add(keras.layers.GlobalMaxPooling1D())\n",
    "    model.add(keras.layers.Dropout(dropout2))\n",
    "    model.add(keras.layers.Dense(10, activation='relu'))\n",
    "    model.add(keras.layers.Dropout(dropout3))\n",
    "    model.add(keras.layers.Dense(1, activation='sigmoid'))\n",
    "    model.compile(optimizer=adam,\n",
    "                  loss='binary_crossentropy',\n",
    "                  metrics=['accuracy'])\n",
    "    # model.summary()\n",
    "    return model"
   ]
  },
  {
   "cell_type": "code",
   "execution_count": 77,
   "metadata": {},
   "outputs": [
    {
     "name": "stdout",
     "output_type": "stream",
     "text": [
      "742/742 [==============================] - 0s 165us/sample - loss: 0.3474 - acc: 0.8747\n",
      "religion\n",
      "Area under  PR curve:  0.77\n",
      "PR Baseline         :  0.24123989218328842\n",
      "If the AUPR score (0.77) is more than a little bigger than the baseline (0.24), which it *is*, then our model is working!\n",
      "\n",
      "\n",
      "742/742 [==============================] - 0s 170us/sample - loss: 0.5497 - acc: 0.7480\n",
      "ethnicity\n",
      "Area under  PR curve:  0.66\n",
      "PR Baseline         :  0.35175202156334234\n",
      "If the AUPR score (0.66) is more than a little bigger than the baseline (0.35), which it *is*, then our model is working!\n",
      "\n",
      "\n",
      "742/742 [==============================] - 0s 164us/sample - loss: 0.2411 - acc: 0.9272\n",
      "sexual-orientation\n",
      "Area under  PR curve:  0.79\n",
      "PR Baseline         :  0.16711590296495957\n",
      "If the AUPR score (0.79) is more than a little bigger than the baseline (0.17), which it *is*, then our model is working!\n",
      "\n",
      "\n",
      "742/742 [==============================] - 0s 203us/sample - loss: 0.3429 - acc: 0.8895\n",
      "gender\n",
      "Area under  PR curve:  0.2\n",
      "PR Baseline         :  0.1105121293800539\n",
      "If the AUPR score (0.2) is more than a little bigger than the baseline (0.11), which it *is*, then our model is working!\n",
      "\n",
      "\n",
      "742/742 [==============================] - 0s 115us/sample - loss: 0.1347 - acc: 0.9717\n",
      "disability\n",
      "Area under  PR curve:  0.11\n",
      "PR Baseline         :  0.02830188679245283\n",
      "If the AUPR score (0.11) is more than a little bigger than the baseline (0.03), which it *is*, then our model is working!\n",
      "\n",
      "\n",
      "742/742 [==============================] - 0s 94us/sample - loss: 0.4530 - acc: 0.7857\n",
      "immigrant\n",
      "Area under  PR curve:  0.48\n",
      "PR Baseline         :  0.21428571428571427\n",
      "If the AUPR score (0.48) is more than a little bigger than the baseline (0.21), which it *is*, then our model is working!\n",
      "\n",
      "\n",
      "742/742 [==============================] - 0s 158us/sample - loss: 0.5393 - acc: 0.7385\n",
      "race\n",
      "Area under  PR curve:  0.8\n",
      "PR Baseline         :  0.48517520215633425\n",
      "If the AUPR score (0.8) is more than a little bigger than the baseline (0.49), which it *is*, then our model is working!\n",
      "\n",
      "\n",
      "742/742 [==============================] - 0s 116us/sample - loss: 0.4752 - acc: 0.7682\n",
      "race_ethnicity\n",
      "Area under  PR curve:  0.9\n",
      "PR Baseline         :  0.6563342318059299\n",
      "If the AUPR score (0.9) is more than a little bigger than the baseline (0.66), which it *is*, then our model is working!\n",
      "\n",
      "\n"
     ]
    }
   ],
   "source": [
    "histories_cnn, test_labels_cnn, predicted_probas_cnn = train_keras_model(cnn_model, train_df, test_df, epochs=20, should_equalize=False, classes_of_interest=(list(set(all_values))) +  [\"race_ethnicity\"]) # "
   ]
  },
  {
   "cell_type": "raw",
   "metadata": {},
   "source": [
    "\n",
    "\n",
    "### dropout (and epochs)\n",
    "\n",
    "The goal of a model is to learn how to _generalize_. We're going to use a chart of training loss versus validation loss to help us understand if the model is generalizing, i.e. if it's doing the right thing. If it's not, then we can know which settings to fiddle with.\n",
    "\n",
    "Suppose many of the religion-related tips in our training data mention grocery stores. That's not, logically, true of ALL religion-related hate incidents; it's just a coincidence that that's how our training data got chosen. We want the model to correctly learn the real signs of what makes a hate incident related to religion, but not get confused by the coincidental co-occurrence of grocery stores with religion-related tips. If the model has generalized, it's learned what _really_ distinguishes religion-related tips. But if it focuses wrongfully on grocery stores, then it is \"overfit\" -- that is, focused on patterns that are true in the training data, but not the patterns that are true in real life.\n",
    "\n",
    "The way neural nets handle this problem is by having a \"validation set\" -- chosen like the training data, but not used for training. Unless we're really unlucky, the religion-related tips in the validation set won't mention grocery stores... but they will mention the true signs of religion-related hate incidents (mosques, synagogues, etc.). \n",
    "\n",
    "In essence, if performance on the validation set is close to performance on the training set, then we're doing good. If it's much worse, then the model is either undertrained or overfit.\n",
    "\n",
    "The solution to undertraining is to train more. We do that by increasing the number of epochs. We know if the model is undertrained is if the \"validation loss\" is steadily decreasing on the chart below.\n",
    "\n",
    "The solution to overfitting is to make the model more \"forgetful\" -- we want the model to learn multiple ways of determining what's a religion-related hate crime. Not just the names of houses of worship (and grocery stores, the spurious indicator) but other words that provide some signal. To do that, we force the model to ignore some things with a \"dropout layer\". Increasing the amount of dropout in the model's dropout layers lets it forget more and is one possible solution to overfitting.\n",
    "\n",
    "You can read more about this at these links:\n",
    "\n",
    " - https://stats.stackexchange.com/questions/187335/validation-error-less-than-training-error/187404#187404\n",
    " - https://forums.fast.ai/t/determining-when-you-are-overfitting-underfitting-or-just-right/7732/6"
   ]
  },
  {
   "cell_type": "code",
   "execution_count": 78,
   "metadata": {},
   "outputs": [
    {
     "data": {
      "image/png": "[encoded data removed]",
      "text/plain": [
       "<Figure size 432x288 with 1 Axes>"
      ]
     },
     "metadata": {
      "needs_background": "light"
     },
     "output_type": "display_data"
    },
    {
     "data": {
      "image/png": "[encoded data removed]",
      "text/plain": [
       "<Figure size 432x288 with 1 Axes>"
      ]
     },
     "metadata": {
      "needs_background": "light"
     },
     "output_type": "display_data"
    }
   ],
   "source": [
    "training_and_validation_loss(histories_cnn['race_ethnicity'])\n",
    "training_and_validation_accuracy(histories_cnn['race_ethnicity'])"
   ]
  },
  {
   "cell_type": "markdown",
   "metadata": {},
   "source": [
    "As you can see in the charts above, validation loss has begun to flatten out. We don't need more epochs. Since the training loss is very low, but validation loss is higher, that means we may be overfit."
   ]
  },
  {
   "cell_type": "code",
   "execution_count": 80,
   "metadata": {},
   "outputs": [
    {
     "data": {
      "image/png": "[encoded data removed]",
      "text/plain": [
       "<Figure size 432x288 with 1 Axes>"
      ]
     },
     "metadata": {
      "needs_background": "light"
     },
     "output_type": "display_data"
    }
   ],
   "source": [
    "pr_chart(test_labels_cnn, predicted_probas_cnn)"
   ]
  },
  {
   "cell_type": "markdown",
   "metadata": {},
   "source": [
    "## Keras LSTM:\n",
    "\n",
    "LSTMs (short for Long Short-Term Memory) are another kind of neural network that works well on text. But for some reason, I couldn't get it to do much at all for this dataset. I got an area under PR curve of 0.66, with a baseline of 0.657...\n",
    "\n",
    "In other words, the model was just guessing. \n",
    "\n",
    "I don't know why. If you do, let me know?\n"
   ]
  },
  {
   "cell_type": "code",
   "execution_count": 82,
   "metadata": {},
   "outputs": [],
   "source": [
    "def lstm_model(learning_rate=0.001):\n",
    "    keras.backend.clear_session()\n",
    "\n",
    "    adam = keras.optimizers.Adam(lr=learning_rate) # default lr = 0.001\n",
    "\n",
    "    model = keras.Sequential()\n",
    "    model.add(\n",
    "        keras.layers.Embedding(VOCAB_SIZE, # vocab size\n",
    "                                    32,   # output size; embedding dimensions\n",
    "                                   input_length=MAX_SEQUENCE_LENGTH\n",
    "                              ))\n",
    "    model.add(keras.layers.Dropout(0.2))\n",
    "    model.add(keras.layers.LSTM(100))\n",
    "    model.add(keras.layers.Dropout(0.2))\n",
    "\n",
    "    model.add(keras.layers.Dense(1, activation='sigmoid')) # with just one dense layer, race_ethnicity ROC 0.69\n",
    "    model.compile(loss='binary_crossentropy', optimizer=adam, metrics=['accuracy'])\n",
    "    model.summary()\n",
    "    return model"
   ]
  },
  {
   "cell_type": "code",
   "execution_count": 83,
   "metadata": {},
   "outputs": [
    {
     "name": "stdout",
     "output_type": "stream",
     "text": [
      "_________________________________________________________________\n",
      "Layer (type)                 Output Shape              Param #   \n",
      "=================================================================\n",
      "embedding (Embedding)        (None, 256, 32)           320096    \n",
      "_________________________________________________________________\n",
      "dropout (Dropout)            (None, 256, 32)           0         \n",
      "_________________________________________________________________\n",
      "lstm (LSTM)                  (None, 100)               53200     \n",
      "_________________________________________________________________\n",
      "dropout_1 (Dropout)          (None, 100)               0         \n",
      "_________________________________________________________________\n",
      "dense (Dense)                (None, 1)                 101       \n",
      "=================================================================\n",
      "Total params: 373,397\n",
      "Trainable params: 373,397\n",
      "Non-trainable params: 0\n",
      "_________________________________________________________________\n",
      "742/742 [==============================] - 2s 2ms/sample - loss: 0.7263 - acc: 0.4084\n",
      "race_ethnicity\n",
      "Area under  PR curve:  0.69\n",
      "PR Baseline         :  0.6563342318059299\n",
      "If the AUPR score (0.69) is more than a little bigger than the baseline (0.66), which it *is*, then our model is working!\n",
      "\n",
      "\n"
     ]
    }
   ],
   "source": [
    "histories, test_labels_lstm, predicted_probas_lstm = train_keras_model(lstm_model, train_df, test_df, epochs=5, should_equalize=True, classes_of_interest=[\"race_ethnicity\"])"
   ]
  },
  {
   "cell_type": "code",
   "execution_count": 84,
   "metadata": {},
   "outputs": [
    {
     "data": {
      "image/png": "[encoded data removed]",
      "text/plain": [
       "<Figure size 432x288 with 1 Axes>"
      ]
     },
     "metadata": {
      "needs_background": "light"
     },
     "output_type": "display_data"
    },
    {
     "data": {
      "image/png": "[encoded data removed]",
      "text/plain": [
       "<Figure size 432x288 with 1 Axes>"
      ]
     },
     "metadata": {
      "needs_background": "light"
     },
     "output_type": "display_data"
    }
   ],
   "source": [
    "training_and_validation_loss(histories['race_ethnicity'])\n",
    "training_and_validation_accuracy(histories['race_ethnicity'])"
   ]
  },
  {
   "cell_type": "markdown",
   "metadata": {},
   "source": [
    "## Spacy Text Categorization\n",
    "https://spacy.io/usage/examples#textcat\n",
    "It's a CNN, but with smart defaults for a lot of the options."
   ]
  },
  {
   "cell_type": "code",
   "execution_count": 85,
   "metadata": {},
   "outputs": [
    {
     "name": "stdout",
     "output_type": "stream",
     "text": [
      "Using 2968 examples (2374 training, 594 evaluation)\n",
      "Training the model...\n",
      "LOSS \t  P  \t  R  \t  F  \n",
      "1 . 128.089\t0.726\t0.908\t0.807\n",
      "2 . 64.358\t0.795\t0.847\t0.820\n",
      "3 . 39.252\t0.789\t0.858\t0.822\n",
      "4 . 27.853\t0.802\t0.853\t0.827\n",
      "5 . 19.732\t0.801\t0.868\t0.833\n",
      "6 . 15.693\t0.801\t0.858\t0.828\n",
      "7 . 12.891\t0.795\t0.868\t0.830\n",
      "8 . 10.547\t0.800\t0.866\t0.832\n",
      "9 . 8.722\t0.804\t0.866\t0.834\n",
      "10. 8.085\t0.813\t0.847\t0.830\n",
      "11. 7.108\t0.815\t0.868\t0.841\n",
      "12. 7.256\t0.821\t0.845\t0.833\n",
      "13. 6.614\t0.820\t0.850\t0.835\n",
      "14. 6.221\t0.815\t0.837\t0.826\n",
      "15. 5.845\t0.812\t0.839\t0.825\n",
      "16. 7.384\t0.807\t0.845\t0.825\n",
      "17. 6.187\t0.806\t0.853\t0.829\n",
      "18. 7.135\t0.797\t0.858\t0.826\n",
      "19. 5.674\t0.802\t0.863\t0.831\n",
      "20. 5.625\t0.811\t0.847\t0.829\n",
      "Saved model to data/spacy\n"
     ]
    }
   ],
   "source": [
    "from spacy.util import minibatch, compounding\n",
    "from pathlib import Path\n",
    "\n",
    "nlp_textcat = spacy.load('en_core_web_lg')\n",
    "\n",
    "SHOULD_EQUALIZE_SPACY = True\n",
    "VALIDATION_SET_PERCENTAGE = 0.2\n",
    "output_dir = 'data/spacy/'\n",
    "n_iter = 20 # 5 might be plenty?\n",
    "COLUMN_OF_INTEREST_SPACY = \"race_ethnicity\"\n",
    "\n",
    "train_df, test_df = train_test_split(train_test_data_one_hot, test_size=0.2, shuffle=True)\n",
    "\n",
    "def load_data(limit=0, split=0.8, column=COLUMN_OF_INTEREST_SPACY):\n",
    "    \"\"\"Load data from the IMDB dataset.\"\"\"\n",
    "    # Partition off part of the train data for evaluation\n",
    "    train_data = train_df[[\"description\", column]]\n",
    "    train_data = train_data.sample(frac=1).reset_index(drop=True)\n",
    "    train_data = train_data[-limit:]\n",
    "    texts, labels = zip(*train_data.values)\n",
    "    cats = [{'POSITIVE-{}'.format(column): bool(y)} for y in labels]\n",
    "    split = int(len(train_data) * split)\n",
    "    return (texts[:split], cats[:split]), (texts[split:], cats[split:])\n",
    "\n",
    "def evaluate(tokenizer, textcat, texts, cats):\n",
    "    docs = (tokenizer(text) for text in texts)\n",
    "    tp = 0.0   # True positives\n",
    "    fp = 1e-8  # False positives\n",
    "    fn = 1e-8  # False negatives\n",
    "    tn = 0.0   # True negatives\n",
    "    for i, doc in enumerate(textcat.pipe(docs)):\n",
    "        gold = cats[i]\n",
    "        for label, score in doc.cats.items():\n",
    "            if label not in gold:\n",
    "                continue\n",
    "            if score >= 0.5 and gold[label] >= 0.5:\n",
    "                tp += 1.\n",
    "            elif score >= 0.5 and gold[label] < 0.5:\n",
    "                fp += 1.\n",
    "            elif score < 0.5 and gold[label] < 0.5:\n",
    "                tn += 1\n",
    "            elif score < 0.5 and gold[label] >= 0.5:\n",
    "                fn += 1\n",
    "    precision = tp / (tp + fp)\n",
    "    recall = tp / (tp + fn)\n",
    "    f_score = 2 * (precision * recall) / (precision + recall)\n",
    "    return {'textcat_p': precision, 'textcat_r': recall, 'textcat_f': f_score}\n",
    "\n",
    "\n",
    "\n",
    "if output_dir is not None:\n",
    "    output_dir = Path(output_dir)\n",
    "    if not output_dir.exists():\n",
    "        output_dir.mkdir()\n",
    "\n",
    "# add the text classifier to the pipeline if it doesn't exist\n",
    "# nlp.create_pipe works for built-ins that are registered with spaCy\n",
    "if 'textcat' not in nlp_textcat.pipe_names:\n",
    "    textcat = nlp_textcat.create_pipe('textcat')\n",
    "    nlp_textcat.add_pipe(textcat, last=True)\n",
    "# otherwise, get it, so we can add labels to it\n",
    "else:\n",
    "    textcat = nlp_textcat.get_pipe('textcat')\n",
    "\n",
    "# add label to text classifier\n",
    "label_name = 'POSITIVE-{}'.format(COLUMN_OF_INTEREST_SPACY)\n",
    "textcat.add_label(label_name)\n",
    "\n",
    "(train_texts, train_cats), (dev_texts, dev_cats) = load_data(split=1.0-VALIDATION_SET_PERCENTAGE)\n",
    "print(\"Using {} examples ({} training, {} evaluation)\"\n",
    "      .format(len(train_texts) + len(dev_texts), len(train_texts), len(dev_texts)))\n",
    "train_data = list(zip(train_texts,\n",
    "                      [{'cats': cats} for cats in train_cats]))\n",
    "\n",
    "# get names of other pipes to disable them during training\n",
    "other_pipes = [pipe for pipe in nlp.pipe_names if pipe != 'textcat']\n",
    "with nlp_textcat.disable_pipes(*other_pipes):  # only train textcat\n",
    "    optimizer = nlp_textcat.begin_training()\n",
    "    print(\"Training the model...\")\n",
    "    print('{:^5}\\t{:^5}\\t{:^5}\\t{:^5}'.format('LOSS', 'P', 'R', 'F'))\n",
    "    for i in range(n_iter):\n",
    "        losses = {}\n",
    "        # batch up the examples using spaCy's minibatch\n",
    "        batches = minibatch(train_data, size=compounding(4., 32., 1.001))\n",
    "        for batch in batches:\n",
    "            texts, annotations = zip(*batch)\n",
    "            nlp_textcat.update(texts, annotations, sgd=optimizer, drop=0.2,\n",
    "                       losses=losses)\n",
    "        with textcat.model.use_params(optimizer.averages):\n",
    "            # evaluate on the dev data split off in load_data()\n",
    "            scores = evaluate(nlp.tokenizer, textcat, dev_texts, dev_cats)\n",
    "        print('{4: <2}. {0:.3f}\\t{1:.3f}\\t{2:.3f}\\t{3:.3f}'  # print a simple table\n",
    "              .format(losses['textcat'], scores['textcat_p'],\n",
    "                      scores['textcat_r'], scores['textcat_f'], i+1))\n",
    "\n",
    "\n",
    "if output_dir is not None:\n",
    "    with nlp_textcat.use_params(optimizer.averages):\n",
    "        nlp_textcat.to_disk(output_dir)\n",
    "    print(\"Saved model to\", output_dir)"
   ]
  },
  {
   "cell_type": "code",
   "execution_count": 116,
   "metadata": {},
   "outputs": [
    {
     "data": {
      "application/vnd.jupyter.widget-view+json": {
       "model_id": "1e117bcf60e24c12bc8310369969c663",
       "version_major": 2,
       "version_minor": 0
      },
      "text/plain": [
       "HBox(children=(IntProgress(value=0, max=747), HTML(value='')))"
      ]
     },
     "metadata": {},
     "output_type": "display_data"
    },
    {
     "name": "stdout",
     "output_type": "stream",
     "text": [
      "\n",
      "spaCy Area under ROC curve:  0.8214486024989873\n",
      "spaCy Area under  PR curve:  0.8822858437821977\n"
     ]
    }
   ],
   "source": [
    "from tqdm import tqdm_notebook as tqdm\n",
    "predicted_probabilities = []\n",
    "for row in tqdm(test_df[[\"description\", COLUMN_OF_INTEREST_SPACY]].values):\n",
    "    doc = nlp_textcat(row[0])\n",
    "    predicted_probabilities.append(doc.cats[\"POSITIVE-{}\".format(COLUMN_OF_INTEREST_SPACY)])\n",
    "    \n",
    "print(\"spaCy Area under  PR curve: \", average_precision_score(test_df[COLUMN_OF_INTEREST_SPACY], predicted_probabilities))\n"
   ]
  },
  {
   "cell_type": "markdown",
   "metadata": {},
   "source": [
    "## Bonus #1: What confuses the classifier?\n",
    "\n",
    "Let's loop through the test set and see for which documents the Naive Bayes classifier gives the wrong answer. Then we'll use our human judgment to see if the computer is really giving the 'wrong' answer or if the data is just coded wrong.\n",
    "\n",
    "In some cases the person who submitted the tip didn't classify it in the way we'd want to. In that case, the computer's not really wrong.\n",
    "\n",
    "In some cases, the computer is not giving the answer we want it to. Sometimes, that's \"forgivable\" and we can't expect it to (e.g. misspellings or descriptions that use unfamiliar wordings); other times, the model is _really_ doing the wrong thing. It's that last case that we're trying to eliminate overall.\n",
    "\n",
    "But the purpose of this exercise is to get a sense of what the model is missing and what tips are mis-classified by humans. \n",
    "\n",
    "What I've noticed:\n",
    "\n",
    "- the model doesn't seem to know the phrase \"N word\"; even though that should be a clear sign of a race-related tip. (Which I fix above).\n",
    "- the model classifies many Judaism-related tips as non-race/ethnicity-related (when teh submitter classified it that way). In my opinion, that may be okay if the model categorizes those as religion-related. (But like, it's a tough category in the first place. If humans can't agree on the right answer, we can't expect the computer to settle it for us!)\n",
    "- forgivable error \"get out of the country\" coded as race-related when person reporting is from England. (i.e. computer is picking up on a real signal that just happens not to apply here.)"
   ]
  },
  {
   "cell_type": "code",
   "execution_count": null,
   "metadata": {
    "collapsed": true
   },
   "outputs": [],
   "source": [
    "test_labels_nb = test_df_nb[class_of_interest]\n",
    "test_features_nb = test_df_nb[\"description\"]\n",
    "test_features_nb_vec = vectorizer.transform(test_features_nb)\n",
    "\n",
    "predicted_probabilities = nbclassifier.predict_proba(test_features_nb_vec)[:,1]\n",
    "for (row, predicted_proba) in zip(test_df_nb[[\"description\", class_of_interest]].values, predicted_probabilities):\n",
    "    if row[1] == (1.0 if predicted_proba > 0.5 else 0.0):\n",
    "        continue\n",
    "    print(\"Classifier sez {}; gold-standard coded as {}\".format(predicted_proba, row[1]))\n",
    "    print(\"Text: {}\".format(row[0]))\n",
    "    print(\"\\n---------------------------------------------\\n\")"
   ]
  },
  {
   "cell_type": "markdown",
   "metadata": {},
   "source": [
    "`I can't actually show you the output.`"
   ]
  },
  {
   "cell_type": "markdown",
   "metadata": {},
   "source": [
    "## Bonus #2. Interactive Example\n",
    "\n",
    "We can figure out what words in a description contribute most to the score (again using Naive Bayes).\n",
    "\n",
    "You can also see this code in an [interactive form here](https://s3.amazonaws.com/qz-aistudio-public/dochate.html).\n",
    "\n",
    "For a tip, we remove each n-gram and run the modified tip through the classifier. The n-grams that, when removed, cause the largest change in the model's guess are the ones that have the biggest effect. This is kind of a hack: some models might take into account additional context than just trigrams or do so in different ways. But this gives us a sense of what the model is basing its decision on. \n",
    "\n",
    "You'll find some times when the model makes the right call... and other times where it has mistakenly learned that an  phrase that ought to be irrelevant has a big effect. (Can you think of why that might happen?)\n"
   ]
  },
  {
   "cell_type": "code",
   "execution_count": 67,
   "metadata": {},
   "outputs": [],
   "source": [
    "import re\n",
    "\n",
    "def classify_all(text, cutoff=0.5):\n",
    "    classifications = []\n",
    "    vectorized_text = vectorizer.transform([text])\n",
    "    for class_of_interest, classifier in classifiers.items():\n",
    "        proba = classifier.predict_proba(vectorized_text)[:,1][0]\n",
    "        if proba > 0.50:\n",
    "            classifications.append(class_of_interest)\n",
    "    return classifications\n",
    "        \n",
    "\n",
    "def permute_text(text):\n",
    "    words = ' '.join(re.sub(r'[^A-Za-z0-9]', ' ', text).split()).split()\n",
    "    bigrams = list(zip(words[:-1], words[1:]))\n",
    "    trigrams = list(zip(bigrams[:-2], words[2:]))\n",
    "    return [(word, ' '.join(words[:i] + words[i+1:]) ) for i, word in enumerate(words)] + [(' '.join(bigram), ' '.join(words[:i] + words[i+2:]) ) for i, bigram in enumerate(bigrams)] + [( ' '.join(trigram[0] + (trigram[1],)), ' '.join(words[:i] + words[i+3:]) ) for i, trigram in enumerate(trigrams)]\n",
    "\n",
    "def but_why_with_func(text, classify):\n",
    "    baseline = classify(text)\n",
    "    permuted_texts = permute_text(text)\n",
    "    diffs = [(deleted_word, baseline - classify(permuted_text)) for (deleted_word, permuted_text)  in permuted_texts]\n",
    "    biggest_diffs = sorted(diffs, key=lambda word_diff: -abs(word_diff[1]))[:4]\n",
    "    return baseline, biggest_diffs \n",
    "  \n",
    "def but_why(text, class_of_interest=\"race_ethnicity\"):\n",
    "    baseline, biggest_diffs = but_why_with_func(text, \n",
    "                    lambda x: classifiers[class_of_interest].predict_proba(vectorizer.transform([x]))[:,1][0])\n",
    "    return baseline, biggest_diffs\n",
    "\n",
    "def inspect(text, class_of_interest=None):\n",
    "    text = clean(text)\n",
    "    print(\"Text:\")\n",
    "    print()\n",
    "    print(\"  \" + text)\n",
    "    print()\n",
    "\n",
    "    print(\"Predicted targeted-because: \")\n",
    "    for target in classify_all(text):\n",
    "        print(' * ' + target)\n",
    "    if class_of_interest: \n",
    "        print()\n",
    "        print(\"Why that {} prediction?\".format(class_of_interest))\n",
    "        baseline, biggest_diffs = but_why(text, class_of_interest)\n",
    "        print(\"predicted probability: {0:.2f}%\".format(baseline * 100))\n",
    "        print(\"top difference-makers:\")\n",
    "        for (deleted_word, diff) in biggest_diffs:\n",
    "            print(\" - {0}, {1:.2f}%\".format(deleted_word, diff * 100))\n",
    "\n"
   ]
  },
  {
   "cell_type": "code",
   "execution_count": 69,
   "metadata": {},
   "outputs": [
    {
     "name": "stdout",
     "output_type": "stream",
     "text": [
      "Text:\n",
      "\n",
      "  someone called me the ndashword at the grocery store\n",
      "\n",
      "Predicted targeted-because: \n",
      " * race\n",
      " * race_ethnicity\n",
      "\n",
      "Why that race_ethnicity prediction?\n",
      "predicted probability: 69.56%\n",
      "top difference-makers:\n",
      " - ndashword at, 18.51%\n",
      " - the ndashword at, 18.47%\n",
      " - ndashword at the, 18.47%\n",
      " - ndashword, 18.08%\n"
     ]
    }
   ],
   "source": [
    "text = \"someone called me the n-word at the grocery store\"\n",
    "inspect(text, 'race_ethnicity')"
   ]
  },
  {
   "cell_type": "markdown",
   "metadata": {},
   "source": [
    "## Bonus 3: Grid Search for targeted_because\n",
    "\n",
    "My CNN managed to slightly outperform Naive Bayes for predicting `targeted_because`. Let's see if we can fiddle with the knobs (technically \"hyperparameters\" -- settings like the size of the embedding layer, the learning rate or the dropout amount -- and get better results.\n",
    "\n",
    "There's no science to this. We're just fiddling with knobs. Grid Search is a technique for fiddling with those knobs systematically...\n",
    "\n",
    "This took a lot of fiddling (Tensorflow doesn't parallelize well, due to memory reservations that aren't easily freed. That's what a lot of random-seed setting code above does.)\n",
    "\n",
    "I did this on a p3.2xlarge instance, which costs \\\\$3/hr and testing 11250 combinations 3x each, took 20hr 52min -- costing \\\\$60ish. (If you do everything right the first time, which I didn't.)\n",
    "\n",
    "Results look like this: Best: 0.792443 using {'batch_size': 256, 'dropout1': 0.1, 'dropout2': 0.0, 'dropout3': 0.0, 'dropout_embedding': 0.0, 'embedding_dim': 32, 'epochs': 20, 'kernel_size': 5, 'learning_rate': 0.001, 'num_filters': 256, 'verbose': 0} plus results for every combination.\n",
    "\n",
    "I used this tutorial: https://machinelearningmastery.com/grid-search-hyperparameters-deep-learning-models-python-keras/\n",
    "\n",
    "The best result was  0.898847 using `{'batch_size': 256, 'dropout1': 0.0, 'dropout2': 0.1, 'dropout3': 0.2, 'dropout_embedding': 0.0, 'embedding_dim': 32, 'epochs': 30, 'kernel_size': 5, 'learning_rate': 0.0005, 'num_filters': 256, 'verbose': 0}`."
   ]
  },
  {
   "cell_type": "code",
   "execution_count": null,
   "metadata": {},
   "outputs": [],
   "source": [
    "from tensorflow.keras.wrappers.scikit_learn import KerasClassifier\n",
    "from sklearn.model_selection import GridSearchCV\n",
    "\n",
    "keras.backend.clear_session()\n",
    "np.random.seed(RANDOM_SEED)\n",
    "random.seed(RANDOM_SEED)\n",
    "tf.set_random_seed(RANDOM_SEED)\n",
    "\n",
    "\n",
    "should_equalize = False\n",
    "\n",
    "histories = {}\n",
    "\n",
    "train_data = np.array(encode_texts(train_df[\"description\"]))\n",
    "test_data = np.array(encode_texts(test_df[\"description\"]))\n",
    "train_data = keras.preprocessing.sequence.pad_sequences(train_data,\n",
    "                                                        value=word_index[\"<PAD>\"],\n",
    "                                                        padding='post',\n",
    "                                                        maxlen=256)\n",
    "test_data = keras.preprocessing.sequence.pad_sequences(test_data,\n",
    "                                                       value=word_index[\"<PAD>\"],\n",
    "                                                       padding='post',\n",
    "                                                       maxlen=256)\n",
    "for class_of_interest in [\"race_ethnicity\"]:\n",
    "    train_labels = train_df[class_of_interest]\n",
    "    test_labels = test_df[class_of_interest]\n",
    "\n",
    "    if should_equalize:\n",
    "        equalized_train_data, equalized_train_labels = equalize_classes_keras(train_data, train_labels)\n",
    "    else:\n",
    "        equalized_train_data = train_data.copy()\n",
    "        equalized_train_labels = train_labels.copy()\n",
    "\n",
    "    x_val = equalized_train_data[:VALIDATION_SET_SIZE]\n",
    "    partial_x_train = equalized_train_data[VALIDATION_SET_SIZE:]\n",
    "\n",
    "    y_val = equalized_train_labels[:VALIDATION_SET_SIZE]\n",
    "    partial_y_train = equalized_train_labels[VALIDATION_SET_SIZE:]\n",
    "    \n",
    "    # different bits\n",
    "    parameters_cnn = {\n",
    "        \"learning_rate\":      (0.001,),\n",
    "        \"dropout_embedding\":  (0.0, 0.1, 0.2, 0.3, 0.4),\n",
    "        \"dropout1\":           (0.0, 0.1, 0.2, 0.3, 0.4),\n",
    "        \"dropout2\":           (0.0, 0.1, 0.2, 0.3, 0.4),\n",
    "        \"dropout3\":           (0.0, 0.1, 0.2, 0.3, 0.4),\n",
    "        \"embedding_dim\":      (16, 32),  # default 16\n",
    "        \"num_filters\":        (32,64,256), # default 128\n",
    "        \"kernel_size\":        (3,5,7),       # default 5\n",
    "\n",
    "        # these aren't actually options we're messing around with parameters\n",
    "        \"epochs\": (20,),\n",
    "        \"batch_size\": (256,),\n",
    "        \"validation_data\": [(x_val, y_val)],\n",
    "        \"verbose\": (0,),\n",
    "    }\n",
    "\n",
    "    \n",
    "    model = KerasClassifier(build_fn=cnn_model)    \n",
    "    gridsearcher = GridSearchCV(model, parameters_cnn, scoring='average_precision', verbose=0, n_jobs=1)\n",
    "    grid_result = gridsearcher.fit(partial_x_train, partial_y_train)\n",
    "    \n",
    "    # summarize results\n",
    "    print(\"Best: %f using %s\" % (grid_result.best_score_, {k:v for k,v in grid_result.best_params_.items() if k != 'validation_data'}))\n",
    "    means = grid_result.cv_results_['mean_test_score']\n",
    "    stds = grid_result.cv_results_['std_test_score']\n",
    "    params = grid_result.cv_results_['params']\n",
    "    for mean, stdev, param in zip(means, stds, params):\n",
    "        print(\"%f (%f) with: %r\" % (mean, stdev, param))\n"
   ]
  },
  {
   "cell_type": "markdown",
   "metadata": {},
   "source": [
    "### some helpful methods for charting...\n",
    "\n",
    "That are used above, but defined here just so that they're out of the way!"
   ]
  },
  {
   "cell_type": "code",
   "execution_count": 38,
   "metadata": {},
   "outputs": [],
   "source": [
    "from sklearn.utils.fixes import signature\n",
    "import matplotlib.pyplot as plt\n",
    "\n",
    "def pr_chart(labels, predicted_probas):\n",
    "    precision, recall, _ = precision_recall_curve(labels, predicted_probas)\n",
    "\n",
    "    # In matplotlib < 1.5, plt.fill_between does not have a 'step' argument\n",
    "    step_kwargs = ({'step': 'post'}\n",
    "                   if 'step' in signature(plt.fill_between).parameters\n",
    "                   else {})\n",
    "    plt.step(recall, precision, color='b', alpha=0.2,\n",
    "             where='post')\n",
    "    plt.fill_between(recall, precision, alpha=0.2, color='b', **step_kwargs)\n",
    "    plt.xlabel('Recall')\n",
    "    plt.ylabel('Precision')\n",
    "    plt.ylim([0.0, 1.05])\n",
    "    plt.xlim([0.0, 1.0])\n",
    "    plt.title('2-class Precision-Recall curve')"
   ]
  },
  {
   "cell_type": "code",
   "execution_count": 74,
   "metadata": {},
   "outputs": [],
   "source": [
    "def training_and_validation_accuracy(history):\n",
    "    acc = history.history['acc']\n",
    "    val_acc = history.history['val_acc']\n",
    "    loss = history.history['loss']\n",
    "    val_loss = history.history['val_loss']\n",
    "\n",
    "    epochs = range(1, len(acc) + 1)\n",
    "    \n",
    "    plt.plot(epochs, acc, 'bo', label='Training acc')\n",
    "    plt.plot(epochs, val_acc, 'b', label='Validation acc')\n",
    "    plt.title('Training and validation accuracy')\n",
    "    plt.xlabel('Epochs')\n",
    "    plt.ylabel('Accuracy')\n",
    "    plt.legend()\n",
    "\n",
    "    plt.show()\n"
   ]
  },
  {
   "cell_type": "code",
   "execution_count": 75,
   "metadata": {},
   "outputs": [],
   "source": [
    "import matplotlib.pyplot as plt\n",
    "\n",
    "def training_and_validation_loss(history): \n",
    "    acc = history.history['acc']\n",
    "    val_acc = history.history['val_acc']\n",
    "    loss = history.history['loss']\n",
    "    val_loss = history.history['val_loss']\n",
    "\n",
    "    epochs = range(1, len(acc) + 1)\n",
    "\n",
    "    # \"bo\" is for \"blue dot\"\n",
    "    plt.plot(epochs, loss, 'bo', label='Training loss')\n",
    "    # b is for \"solid blue line\"\n",
    "    plt.plot(epochs, val_loss, 'b', label='Validation loss')\n",
    "    plt.title('Training and validation loss')\n",
    "    plt.xlabel('Epochs')\n",
    "    plt.ylabel('Loss')\n",
    "    plt.legend()\n",
    "\n",
    "    plt.show()"
   ]
  },
  {
   "cell_type": "code",
   "execution_count": null,
   "metadata": {},
   "outputs": [],
   "source": []
  }
 ],
 "metadata": {
  "kernelspec": {
   "display_name": "Python 2",
   "language": "python",
   "name": "python2"
  },
  "language_info": {
   "codemirror_mode": {
    "name": "ipython",
    "version": 3
   },
   "file_extension": ".py",
   "mimetype": "text/x-python",
   "name": "python",
   "nbconvert_exporter": "python",
   "pygments_lexer": "ipython3",
   "version": "3.7.2"
  }
 },
 "nbformat": 4,
 "nbformat_minor": 2
}
